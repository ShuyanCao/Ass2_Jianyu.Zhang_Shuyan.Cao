{
  "nbformat": 4,
  "nbformat_minor": 0,
  "metadata": {
    "colab": {
      "name": "CB_recommender.ipynb",
      "provenance": [],
      "collapsed_sections": [],
      "include_colab_link": true
    },
    "kernelspec": {
      "name": "python3",
      "display_name": "Python 3"
    }
  },
  "cells": [
    {
      "cell_type": "markdown",
      "metadata": {
        "id": "view-in-github",
        "colab_type": "text"
      },
      "source": [
        "<a href=\"https://colab.research.google.com/github/ShuyanCao/Ass2_Jianyu.Zhang_Shuyan.Cao/blob/master/ass.2/python/CB_recommender.ipynb\" target=\"_parent\"><img src=\"https://colab.research.google.com/assets/colab-badge.svg\" alt=\"Open In Colab\"/></a>"
      ]
    },
    {
      "cell_type": "markdown",
      "metadata": {
        "id": "YEAzHVZWmAYH",
        "colab_type": "text"
      },
      "source": [
        "# Prepare Datasets"
      ]
    },
    {
      "cell_type": "code",
      "metadata": {
        "id": "qW5OqdQuYeA2",
        "colab_type": "code",
        "colab": {}
      },
      "source": [
        "import pandas as pd\n",
        "import numpy as np\n",
        "#loading the movie dataset\n",
        "movies = pd.read_csv('/content/tmdb_5000_movies.csv')"
      ],
      "execution_count": 0,
      "outputs": []
    },
    {
      "cell_type": "code",
      "metadata": {
        "id": "8Q9LZEcJa5ok",
        "colab_type": "code",
        "colab": {}
      },
      "source": [
        "#loading the credit dataset\n",
        "credits = pd.read_csv('/content/tmdb_5000_credits.csv')\n",
        "credits.columns = ['id', 'title', 'cast', 'crew']"
      ],
      "execution_count": 0,
      "outputs": []
    },
    {
      "cell_type": "code",
      "metadata": {
        "id": "lUulJoLci_ru",
        "colab_type": "code",
        "colab": {}
      },
      "source": [
        "#combine the 2 datasets together \n",
        "movies = movies.merge(credits, on = 'id')\n"
      ],
      "execution_count": 0,
      "outputs": []
    },
    {
      "cell_type": "markdown",
      "metadata": {
        "id": "b0CJQkYIrm3p",
        "colab_type": "text"
      },
      "source": [
        "# Cleaning Data and Add Features \n"
      ]
    },
    {
      "cell_type": "code",
      "metadata": {
        "id": "RVDi8ulMsJIC",
        "colab_type": "code",
        "colab": {}
      },
      "source": [
        "import warnings\n",
        "warnings.filterwarnings('ignore')\n",
        "\n",
        "# inlude the necessary columns from the dataset. \n",
        "data = movies[['id', 'original_title', 'genres', 'keywords', 'overview',  'cast', 'crew']]\n",
        "\n",
        "# define the features in the datasets\n",
        "from ast import literal_eval\n",
        "features = ['keywords','genres', 'cast', 'crew']\n",
        "for i in features:\n",
        "    data[i] = movies[i].apply(literal_eval)\n",
        "    \n",
        " # Extract list of genres\n",
        "def list_genres(x):\n",
        "    list = [d['name'] for d in x]\n",
        "    return(list)\n",
        "data['genres'] = data['genres'].apply(list_genres)\n",
        "\n",
        "# Extract top 3 cast members\n",
        "def list_cast(x):\n",
        "    list = [d['name'] for d in x]\n",
        "    if len(list) > 3:\n",
        "        list = list[:3]\n",
        "    return(list)\n",
        "data['cast'] = data['cast'].apply(list_cast)\n",
        "\n",
        "# Extract top 5 keywords\n",
        "def list_keywords(x):\n",
        "    list = [d['name'] for d in x]\n",
        "    if len(list) > 5:\n",
        "        list = list[:5]\n",
        "    return(list)\n",
        "data['keywords'] = data['keywords'].apply(list_keywords)\n",
        "\n",
        "# Extract director\n",
        "def get_director(x):\n",
        "    for i in x:\n",
        "        if i['job'] == 'Director':\n",
        "            return i['name']\n",
        "    return np.nan\n",
        "data['director'] = data['crew'].apply(get_director)\n",
        "\n",
        "# Drop the column crew \n",
        "data = data.drop('crew', axis = 1)\n",
        "\n",
        "# Clean features of the dataset\n",
        "def clean_feat(x):\n",
        "    if isinstance(x, list):\n",
        "        return [i.lower().replace(\" \",\"\") for i in x]\n",
        "    else:\n",
        "        if isinstance(x, str):\n",
        "            return x.lower().replace(\" \", \"\")\n",
        "        else:\n",
        "            return ''\n",
        "          \n",
        "\n",
        " #redefine the features in the data \n",
        "features = ['keywords', 'genres', 'cast', 'director']\n",
        "for i in features:\n",
        "    data[i] = data[i].apply(clean_feat)\n",
        "    \n"
      ],
      "execution_count": 0,
      "outputs": []
    },
    {
      "cell_type": "code",
      "metadata": {
        "id": "woyg5Y3ua9vk",
        "colab_type": "code",
        "outputId": "e0b7343d-ebbe-497f-aa0e-9c7d55ce6e77",
        "colab": {
          "base_uri": "https://localhost:8080/",
          "height": 323
        }
      },
      "source": [
        "data.head()"
      ],
      "execution_count": 0,
      "outputs": [
        {
          "output_type": "execute_result",
          "data": {
            "text/html": [
              "<div>\n",
              "<style scoped>\n",
              "    .dataframe tbody tr th:only-of-type {\n",
              "        vertical-align: middle;\n",
              "    }\n",
              "\n",
              "    .dataframe tbody tr th {\n",
              "        vertical-align: top;\n",
              "    }\n",
              "\n",
              "    .dataframe thead th {\n",
              "        text-align: right;\n",
              "    }\n",
              "</style>\n",
              "<table border=\"1\" class=\"dataframe\">\n",
              "  <thead>\n",
              "    <tr style=\"text-align: right;\">\n",
              "      <th></th>\n",
              "      <th>id</th>\n",
              "      <th>original_title</th>\n",
              "      <th>genres</th>\n",
              "      <th>keywords</th>\n",
              "      <th>overview</th>\n",
              "      <th>cast</th>\n",
              "      <th>director</th>\n",
              "    </tr>\n",
              "  </thead>\n",
              "  <tbody>\n",
              "    <tr>\n",
              "      <th>0</th>\n",
              "      <td>19995</td>\n",
              "      <td>Avatar</td>\n",
              "      <td>[action, adventure, fantasy, sciencefiction]</td>\n",
              "      <td>[cultureclash, future, spacewar, spacecolony, ...</td>\n",
              "      <td>In the 22nd century, a paraplegic Marine is di...</td>\n",
              "      <td>[samworthington, zoesaldana, sigourneyweaver]</td>\n",
              "      <td>jamescameron</td>\n",
              "    </tr>\n",
              "    <tr>\n",
              "      <th>1</th>\n",
              "      <td>285</td>\n",
              "      <td>Pirates of the Caribbean: At World's End</td>\n",
              "      <td>[adventure, fantasy, action]</td>\n",
              "      <td>[ocean, drugabuse, exoticisland, eastindiatrad...</td>\n",
              "      <td>Captain Barbossa, long believed to be dead, ha...</td>\n",
              "      <td>[johnnydepp, orlandobloom, keiraknightley]</td>\n",
              "      <td>goreverbinski</td>\n",
              "    </tr>\n",
              "    <tr>\n",
              "      <th>2</th>\n",
              "      <td>206647</td>\n",
              "      <td>Spectre</td>\n",
              "      <td>[action, adventure, crime]</td>\n",
              "      <td>[spy, basedonnovel, secretagent, sequel, mi6]</td>\n",
              "      <td>A cryptic message from Bond’s past sends him o...</td>\n",
              "      <td>[danielcraig, christophwaltz, léaseydoux]</td>\n",
              "      <td>sammendes</td>\n",
              "    </tr>\n",
              "    <tr>\n",
              "      <th>3</th>\n",
              "      <td>49026</td>\n",
              "      <td>The Dark Knight Rises</td>\n",
              "      <td>[action, crime, drama, thriller]</td>\n",
              "      <td>[dccomics, crimefighter, terrorist, secretiden...</td>\n",
              "      <td>Following the death of District Attorney Harve...</td>\n",
              "      <td>[christianbale, michaelcaine, garyoldman]</td>\n",
              "      <td>christophernolan</td>\n",
              "    </tr>\n",
              "    <tr>\n",
              "      <th>4</th>\n",
              "      <td>49529</td>\n",
              "      <td>John Carter</td>\n",
              "      <td>[action, adventure, sciencefiction]</td>\n",
              "      <td>[basedonnovel, mars, medallion, spacetravel, p...</td>\n",
              "      <td>John Carter is a war-weary, former military ca...</td>\n",
              "      <td>[taylorkitsch, lynncollins, samanthamorton]</td>\n",
              "      <td>andrewstanton</td>\n",
              "    </tr>\n",
              "  </tbody>\n",
              "</table>\n",
              "</div>"
            ],
            "text/plain": [
              "       id  ...          director\n",
              "0   19995  ...      jamescameron\n",
              "1     285  ...     goreverbinski\n",
              "2  206647  ...         sammendes\n",
              "3   49026  ...  christophernolan\n",
              "4   49529  ...     andrewstanton\n",
              "\n",
              "[5 rows x 7 columns]"
            ]
          },
          "metadata": {
            "tags": []
          },
          "execution_count": 28
        }
      ]
    },
    {
      "cell_type": "code",
      "metadata": {
        "id": "pvL3I9tosnna",
        "colab_type": "code",
        "outputId": "3b42bb5b-4128-4dc1-fade-ec617a85ff6d",
        "colab": {
          "base_uri": "https://localhost:8080/",
          "height": 80
        }
      },
      "source": [
        "missing = data.columns[data.isnull().any()]\n",
        "data[missing].isnull().sum().to_frame()"
      ],
      "execution_count": 0,
      "outputs": [
        {
          "output_type": "execute_result",
          "data": {
            "text/html": [
              "<div>\n",
              "<style scoped>\n",
              "    .dataframe tbody tr th:only-of-type {\n",
              "        vertical-align: middle;\n",
              "    }\n",
              "\n",
              "    .dataframe tbody tr th {\n",
              "        vertical-align: top;\n",
              "    }\n",
              "\n",
              "    .dataframe thead th {\n",
              "        text-align: right;\n",
              "    }\n",
              "</style>\n",
              "<table border=\"1\" class=\"dataframe\">\n",
              "  <thead>\n",
              "    <tr style=\"text-align: right;\">\n",
              "      <th></th>\n",
              "      <th>0</th>\n",
              "    </tr>\n",
              "  </thead>\n",
              "  <tbody>\n",
              "    <tr>\n",
              "      <th>overview</th>\n",
              "      <td>3</td>\n",
              "    </tr>\n",
              "  </tbody>\n",
              "</table>\n",
              "</div>"
            ],
            "text/plain": [
              "          0\n",
              "overview  3"
            ]
          },
          "metadata": {
            "tags": []
          },
          "execution_count": 50
        }
      ]
    },
    {
      "cell_type": "code",
      "metadata": {
        "id": "2uA8keJ9tNbP",
        "colab_type": "code",
        "colab": {}
      },
      "source": [
        "# Replace NaN from overview with an empty string\n",
        "data['overview'] = data['overview'].fillna('')"
      ],
      "execution_count": 0,
      "outputs": []
    },
    {
      "cell_type": "code",
      "metadata": {
        "id": "ZFTkQxq5tXVk",
        "colab_type": "code",
        "outputId": "470fa1cc-cc4a-4cb1-9d98-f7971ab95277",
        "colab": {
          "base_uri": "https://localhost:8080/",
          "height": 68
        }
      },
      "source": [
        "\n",
        "! pip install rake_nltk\n",
        "from rake_nltk import Rake\n",
        "# Initialize empty column\n",
        "data['createtags'] = ''\n",
        "\n",
        "# function to get keywords from a text\n",
        "def get_keywords(x):\n",
        "    plot = x\n",
        "    \n",
        "    # initialize Rake using english stopwords from NLTK, and all punctuation characters\n",
        "    rake = Rake()\n",
        "    \n",
        "    # extract keywords from text\n",
        "    rake.extract_keywords_from_text(plot)\n",
        "    \n",
        "    # get dictionary with keywords and scores\n",
        "    scores = rake.get_word_degrees()\n",
        "    \n",
        "    # return new keywords as list, ignoring scores\n",
        "    return(list(scores.keys()))\n",
        "\n",
        "# Apply function to generate keywords\n",
        "data['createtags'] = data['overview'].apply(get_keywords)"
      ],
      "execution_count": 0,
      "outputs": [
        {
          "output_type": "stream",
          "text": [
            "Requirement already satisfied: rake_nltk in /usr/local/lib/python3.6/dist-packages (1.0.4)\n",
            "Requirement already satisfied: nltk in /usr/local/lib/python3.6/dist-packages (from rake_nltk) (3.2.5)\n",
            "Requirement already satisfied: six in /usr/local/lib/python3.6/dist-packages (from nltk->rake_nltk) (1.12.0)\n"
          ],
          "name": "stdout"
        }
      ]
    },
    {
      "cell_type": "code",
      "metadata": {
        "id": "Ay_IOwrpt6oQ",
        "colab_type": "code",
        "outputId": "57841155-d304-4d04-de48-9d8f48f2d895",
        "colab": {
          "base_uri": "https://localhost:8080/",
          "height": 204
        }
      },
      "source": [
        "\n",
        "data_keys = pd.DataFrame() \n",
        "\n",
        "data_keys['title'] = data['original_title']\n",
        "data_keys['keywords'] = ''\n",
        "\n",
        "def  tags_package(x):\n",
        "    return(' '.join(x['genres']) + ' ,' + ' '.join(x['keywords']) + ' ,' +  ' '.join(x['cast']) + \n",
        "           ' ,' + ' '.join(x['director']) + ' ,' + ' '.join(x['createtags']))\n",
        "data_keys['keywords'] = data.apply(tags_package, axis = 1)\n",
        "\n",
        "data_keys.head()"
      ],
      "execution_count": 0,
      "outputs": [
        {
          "output_type": "execute_result",
          "data": {
            "text/html": [
              "<div>\n",
              "<style scoped>\n",
              "    .dataframe tbody tr th:only-of-type {\n",
              "        vertical-align: middle;\n",
              "    }\n",
              "\n",
              "    .dataframe tbody tr th {\n",
              "        vertical-align: top;\n",
              "    }\n",
              "\n",
              "    .dataframe thead th {\n",
              "        text-align: right;\n",
              "    }\n",
              "</style>\n",
              "<table border=\"1\" class=\"dataframe\">\n",
              "  <thead>\n",
              "    <tr style=\"text-align: right;\">\n",
              "      <th></th>\n",
              "      <th>title</th>\n",
              "      <th>keywords</th>\n",
              "    </tr>\n",
              "  </thead>\n",
              "  <tbody>\n",
              "    <tr>\n",
              "      <th>0</th>\n",
              "      <td>Avatar</td>\n",
              "      <td>action adventure fantasy sciencefiction ,cultu...</td>\n",
              "    </tr>\n",
              "    <tr>\n",
              "      <th>1</th>\n",
              "      <td>Pirates of the Caribbean: At World's End</td>\n",
              "      <td>adventure fantasy action ,ocean drugabuse exot...</td>\n",
              "    </tr>\n",
              "    <tr>\n",
              "      <th>2</th>\n",
              "      <td>Spectre</td>\n",
              "      <td>action adventure crime ,spy basedonnovel secre...</td>\n",
              "    </tr>\n",
              "    <tr>\n",
              "      <th>3</th>\n",
              "      <td>The Dark Knight Rises</td>\n",
              "      <td>action crime drama thriller ,dccomics crimefig...</td>\n",
              "    </tr>\n",
              "    <tr>\n",
              "      <th>4</th>\n",
              "      <td>John Carter</td>\n",
              "      <td>action adventure sciencefiction ,basedonnovel ...</td>\n",
              "    </tr>\n",
              "  </tbody>\n",
              "</table>\n",
              "</div>"
            ],
            "text/plain": [
              "                                      title                                           keywords\n",
              "0                                    Avatar  action adventure fantasy sciencefiction ,cultu...\n",
              "1  Pirates of the Caribbean: At World's End  adventure fantasy action ,ocean drugabuse exot...\n",
              "2                                   Spectre  action adventure crime ,spy basedonnovel secre...\n",
              "3                     The Dark Knight Rises  action crime drama thriller ,dccomics crimefig...\n",
              "4                               John Carter  action adventure sciencefiction ,basedonnovel ..."
            ]
          },
          "metadata": {
            "tags": []
          },
          "execution_count": 53
        }
      ]
    },
    {
      "cell_type": "code",
      "metadata": {
        "id": "ppr6foFAwVac",
        "colab_type": "code",
        "outputId": "5c390bc0-9e3f-43d3-f07f-0f490d05c856",
        "colab": {
          "base_uri": "https://localhost:8080/",
          "height": 136
        }
      },
      "source": [
        "from sklearn.feature_extraction.text import CountVectorizer\n",
        "\n",
        "# create count matrix\n",
        "cv = CountVectorizer()\n",
        "cv_mx = cv.fit_transform(data_keys['keywords'])\n",
        "\n",
        "\n",
        "from sklearn.metrics.pairwise import cosine_similarity\n",
        "# create cosine similarity matrix\n",
        "cosine_sim = cosine_similarity(cv_mx, cv_mx)\n",
        "\n",
        "print(cosine_sim)"
      ],
      "execution_count": 0,
      "outputs": [
        {
          "output_type": "stream",
          "text": [
            "[[1.         0.10527936 0.06299408 ... 0.         0.         0.        ]\n",
            " [0.10527936 1.         0.09284767 ... 0.02438299 0.         0.        ]\n",
            " [0.06299408 0.09284767 1.         ... 0.02188441 0.         0.        ]\n",
            " ...\n",
            " [0.         0.02438299 0.02188441 ... 1.         0.05938557 0.03959038]\n",
            " [0.         0.         0.         ... 0.05938557 1.         0.06818182]\n",
            " [0.         0.         0.         ... 0.03959038 0.06818182 1.        ]]\n"
          ],
          "name": "stdout"
        }
      ]
    },
    {
      "cell_type": "code",
      "metadata": {
        "id": "Jwv1VHVPw9H0",
        "colab_type": "code",
        "colab": {}
      },
      "source": [
        "# create list of indices for later matching\n",
        "indices = pd.Series(data_keys.index, index = data_keys['title'])"
      ],
      "execution_count": 0,
      "outputs": []
    },
    {
      "cell_type": "markdown",
      "metadata": {
        "id": "hX3znJ-SxNIf",
        "colab_type": "text"
      },
      "source": [
        "# Result Testing(Recommendation)"
      ]
    },
    {
      "cell_type": "code",
      "metadata": {
        "id": "LPjfT5HtxU1u",
        "colab_type": "code",
        "colab": {}
      },
      "source": [
        "def movies_recommendation(title, n = 10, cosine_sim = cosine_sim):\n",
        "    movies = []\n",
        "    \n",
        "    # retrieve matching movie title index\n",
        "    if title not in indices.index:\n",
        "        print(\"No such movie found\")\n",
        "        return\n",
        "    else:\n",
        "        idx = indices[title]\n",
        "    \n",
        "    # cosine similarity scores of movies in descending order\n",
        "    scores = pd.Series(cosine_sim[idx]).sort_values(ascending = False)\n",
        "    \n",
        "    # top n most similar movies indexes\n",
        "    # use 1:n because 0 is the same movie entered\n",
        "    top_n_idx = list(scores.iloc[1:n].index)\n",
        "        \n",
        "    return data_keys['title'].iloc[top_n_idx]"
      ],
      "execution_count": 0,
      "outputs": []
    },
    {
      "cell_type": "code",
      "metadata": {
        "id": "oxImctodx640",
        "colab_type": "code",
        "outputId": "072934c3-c5ae-42d4-f1c6-0a8c01d4d93b",
        "colab": {
          "base_uri": "https://localhost:8080/",
          "height": 221
        }
      },
      "source": [
        "print(movies_recommendation('The Avengers' ,n=12))"
      ],
      "execution_count": 0,
      "outputs": [
        {
          "output_type": "stream",
          "text": [
            "7                   Avengers: Age of Ultron\n",
            "174                     The Incredible Hulk\n",
            "511                                   X-Men\n",
            "85      Captain America: The Winter Soldier\n",
            "79                               Iron Man 2\n",
            "26               Captain America: Civil War\n",
            "169      Captain America: The First Avenger\n",
            "31                               Iron Man 3\n",
            "68                                 Iron Man\n",
            "4401                    The Helix... Loaded\n",
            "182                                 Ant-Man\n",
            "Name: title, dtype: object\n"
          ],
          "name": "stdout"
        }
      ]
    }
  ]
}